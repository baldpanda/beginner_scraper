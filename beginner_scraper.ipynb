{
  "nbformat": 4,
  "nbformat_minor": 0,
  "metadata": {
    "colab": {
      "name": "beginner_scraper.ipynb",
      "version": "0.3.2",
      "provenance": [],
      "collapsed_sections": [],
      "include_colab_link": true
    },
    "kernelspec": {
      "name": "python3",
      "display_name": "Python 3"
    }
  },
  "cells": [
    {
      "cell_type": "markdown",
      "metadata": {
        "id": "view-in-github",
        "colab_type": "text"
      },
      "source": [
        "<a href=\"https://colab.research.google.com/github/baldpanda/beginner_scraper/blob/extracting-different-genres-of-book/beginner_scraper.ipynb\" target=\"_parent\"><img src=\"https://colab.research.google.com/assets/colab-badge.svg\" alt=\"Open In Colab\"/></a>"
      ]
    },
    {
      "cell_type": "markdown",
      "metadata": {
        "id": "5Ei7SrdhBjLK",
        "colab_type": "text"
      },
      "source": [
        "# Beginner Scraper\n",
        "\n",
        "Notebook for learning how to scrape data from webpages. The plan is to start scraping this [website](http://books.toscrape.com/), which is designed for learning to scrape. It is a simple book store with pagination and a navigation bar. Each book has an image of the front cover, a title, a status (in stock, out of stock), and a rating out of 5 stars."
      ]
    },
    {
      "cell_type": "markdown",
      "metadata": {
        "id": "ENq6FYtYCdie",
        "colab_type": "text"
      },
      "source": [
        "### Requests\n",
        "\n",
        "The requests library allows the user to send HTTP requests to a URL. It abstracts a lot of the complexity behind interacting with APIs.\n",
        "\n"
      ]
    },
    {
      "cell_type": "markdown",
      "metadata": {
        "id": "NCXflPalDktd",
        "colab_type": "text"
      },
      "source": [
        "### Beautiful Soup\n",
        "\n",
        "Beautiful soup allows users to extract data out of XML and HTML formats, into a more usable format.  \n"
      ]
    },
    {
      "cell_type": "code",
      "metadata": {
        "id": "zNXiFqJZcGXD",
        "colab_type": "code",
        "colab": {}
      },
      "source": [
        "import requests\n",
        "from bs4 import BeautifulSoup\n",
        "import matplotlib.pyplot as plt\n",
        "import seaborn as sns\n",
        "import pandas as pd"
      ],
      "execution_count": 0,
      "outputs": []
    },
    {
      "cell_type": "code",
      "metadata": {
        "id": "EQ7GdWVzcMg2",
        "colab_type": "code",
        "colab": {}
      },
      "source": [
        "WEBSITE_URL = \"http://books.toscrape.com/\"\n",
        "web_url = requests.get(WEBSITE_URL).text"
      ],
      "execution_count": 0,
      "outputs": []
    },
    {
      "cell_type": "code",
      "metadata": {
        "id": "NZO0GFtBc_82",
        "colab_type": "code",
        "colab": {}
      },
      "source": [
        "# print(BeautifulSoup(web_url).prettify)"
      ],
      "execution_count": 0,
      "outputs": []
    },
    {
      "cell_type": "markdown",
      "metadata": {
        "id": "6489MFblSjh-",
        "colab_type": "text"
      },
      "source": [
        "## Navigation Bar\n",
        "Extracting the navigation bar from home page."
      ]
    },
    {
      "cell_type": "code",
      "metadata": {
        "id": "zJDbKqSZIC1s",
        "colab_type": "code",
        "colab": {}
      },
      "source": [
        "navigation_bar = BeautifulSoup(web_url, 'html.parser').find_all('ul')[1]"
      ],
      "execution_count": 0,
      "outputs": []
    },
    {
      "cell_type": "code",
      "metadata": {
        "id": "B7N5JwiASw2f",
        "colab_type": "code",
        "colab": {}
      },
      "source": [
        "genres = navigation_bar.find_all('li')[0].find_all('li')"
      ],
      "execution_count": 0,
      "outputs": []
    },
    {
      "cell_type": "code",
      "metadata": {
        "id": "T5amv-oXS5XW",
        "colab_type": "code",
        "colab": {}
      },
      "source": [
        "genre_names = []\n",
        "genre_hrefs = []\n",
        "\n",
        "for genre in genres:\n",
        "  genre_name = genre.get_text().replace(\" \", \"\").replace(\"\\n\", \"\")\n",
        "  genre_href = genre.find_all('a', href=True)[0]['href']\n",
        "  genre_names.append(genre_name)\n",
        "  genre_hrefs.append(genre_href)"
      ],
      "execution_count": 0,
      "outputs": []
    },
    {
      "cell_type": "code",
      "metadata": {
        "id": "RAYHBGFAUyQe",
        "colab_type": "code",
        "colab": {}
      },
      "source": [
        "genre_dict = {\"genre_name\":genre_names, \"genre_href\":genre_hrefs}"
      ],
      "execution_count": 0,
      "outputs": []
    },
    {
      "cell_type": "code",
      "metadata": {
        "id": "UmcvCIiFVUL1",
        "colab_type": "code",
        "outputId": "be1c45c8-5585-4d0b-acac-32edb824c4ea",
        "colab": {
          "base_uri": "https://localhost:8080/",
          "height": 204
        }
      },
      "source": [
        "genre_df = pd.DataFrame(genre_dict)\n",
        "genre_df.head()"
      ],
      "execution_count": 0,
      "outputs": [
        {
          "output_type": "execute_result",
          "data": {
            "text/html": [
              "<div>\n",
              "<style scoped>\n",
              "    .dataframe tbody tr th:only-of-type {\n",
              "        vertical-align: middle;\n",
              "    }\n",
              "\n",
              "    .dataframe tbody tr th {\n",
              "        vertical-align: top;\n",
              "    }\n",
              "\n",
              "    .dataframe thead th {\n",
              "        text-align: right;\n",
              "    }\n",
              "</style>\n",
              "<table border=\"1\" class=\"dataframe\">\n",
              "  <thead>\n",
              "    <tr style=\"text-align: right;\">\n",
              "      <th></th>\n",
              "      <th>genre_name</th>\n",
              "      <th>genre_href</th>\n",
              "    </tr>\n",
              "  </thead>\n",
              "  <tbody>\n",
              "    <tr>\n",
              "      <th>0</th>\n",
              "      <td>Travel</td>\n",
              "      <td>catalogue/category/books/travel_2/index.html</td>\n",
              "    </tr>\n",
              "    <tr>\n",
              "      <th>1</th>\n",
              "      <td>Mystery</td>\n",
              "      <td>catalogue/category/books/mystery_3/index.html</td>\n",
              "    </tr>\n",
              "    <tr>\n",
              "      <th>2</th>\n",
              "      <td>HistoricalFiction</td>\n",
              "      <td>catalogue/category/books/historical-fiction_4/...</td>\n",
              "    </tr>\n",
              "    <tr>\n",
              "      <th>3</th>\n",
              "      <td>SequentialArt</td>\n",
              "      <td>catalogue/category/books/sequential-art_5/inde...</td>\n",
              "    </tr>\n",
              "    <tr>\n",
              "      <th>4</th>\n",
              "      <td>Classics</td>\n",
              "      <td>catalogue/category/books/classics_6/index.html</td>\n",
              "    </tr>\n",
              "  </tbody>\n",
              "</table>\n",
              "</div>"
            ],
            "text/plain": [
              "          genre_name                                         genre_href\n",
              "0             Travel       catalogue/category/books/travel_2/index.html\n",
              "1            Mystery      catalogue/category/books/mystery_3/index.html\n",
              "2  HistoricalFiction  catalogue/category/books/historical-fiction_4/...\n",
              "3      SequentialArt  catalogue/category/books/sequential-art_5/inde...\n",
              "4           Classics     catalogue/category/books/classics_6/index.html"
            ]
          },
          "metadata": {
            "tags": []
          },
          "execution_count": 42
        }
      ]
    },
    {
      "cell_type": "markdown",
      "metadata": {
        "id": "4iYfwzEtnh3M",
        "colab_type": "text"
      },
      "source": [
        "## Book Section\n",
        "Extracting the book section."
      ]
    },
    {
      "cell_type": "code",
      "metadata": {
        "id": "kwzPcydydBrL",
        "colab_type": "code",
        "colab": {}
      },
      "source": [
        "books_section = BeautifulSoup(web_url, 'html.parser').find_all('ol')[0]"
      ],
      "execution_count": 0,
      "outputs": []
    },
    {
      "cell_type": "code",
      "metadata": {
        "id": "tJgIdiMBuv9J",
        "colab_type": "code",
        "colab": {}
      },
      "source": [
        "def parse_html(web_url):\n",
        "  return BeautifulSoup(web_url, 'html.parser')\n",
        "\n",
        "def get_book_section(parsed_html):\n",
        "  return parsed_html.find_all('ol')[0]"
      ],
      "execution_count": 0,
      "outputs": []
    },
    {
      "cell_type": "code",
      "metadata": {
        "id": "bq4ho2TsvKxo",
        "colab_type": "code",
        "colab": {}
      },
      "source": [
        "parsed_html = parse_html(web_url)\n",
        "book_section = get_book_section(parsed_html)"
      ],
      "execution_count": 0,
      "outputs": []
    },
    {
      "cell_type": "code",
      "metadata": {
        "id": "qVV8VCNSII3v",
        "colab_type": "code",
        "outputId": "afed5224-f4f2-4834-fba0-86921ca6e14a",
        "colab": {
          "base_uri": "https://localhost:8080/",
          "height": 34
        }
      },
      "source": [
        "num_books_first_page = len(book_section.find_all('article'))\n",
        "print(f\"There are {num_books_first_page} books on the first page.\")"
      ],
      "execution_count": 0,
      "outputs": [
        {
          "output_type": "stream",
          "text": [
            "There are 20 books on the first page.\n"
          ],
          "name": "stdout"
        }
      ]
    },
    {
      "cell_type": "code",
      "metadata": {
        "id": "c2hJyDpQAbkW",
        "colab_type": "code",
        "colab": {}
      },
      "source": [
        "ratings = books_section.find_all('p')[0::3]"
      ],
      "execution_count": 0,
      "outputs": []
    },
    {
      "cell_type": "code",
      "metadata": {
        "id": "Bs06Yga1Emo6",
        "colab_type": "code",
        "outputId": "fb573588-fb4c-40fb-e219-50b81d8ac275",
        "colab": {
          "base_uri": "https://localhost:8080/",
          "height": 357
        }
      },
      "source": [
        "first_page_ratings = [rating['class'][1] for rating in ratings]\n",
        "first_page_ratings"
      ],
      "execution_count": 0,
      "outputs": [
        {
          "output_type": "execute_result",
          "data": {
            "text/plain": [
              "['Three',\n",
              " 'One',\n",
              " 'One',\n",
              " 'Four',\n",
              " 'Five',\n",
              " 'One',\n",
              " 'Four',\n",
              " 'Three',\n",
              " 'Four',\n",
              " 'One',\n",
              " 'Two',\n",
              " 'Four',\n",
              " 'Five',\n",
              " 'Five',\n",
              " 'Five',\n",
              " 'Three',\n",
              " 'One',\n",
              " 'One',\n",
              " 'Two',\n",
              " 'Two']"
            ]
          },
          "metadata": {
            "tags": []
          },
          "execution_count": 9
        }
      ]
    },
    {
      "cell_type": "code",
      "metadata": {
        "id": "PKd5MnHhGIdh",
        "colab_type": "code",
        "outputId": "1f6c28ff-157a-44ae-fc76-9d1469dcbb5e",
        "colab": {
          "base_uri": "https://localhost:8080/",
          "height": 281
        }
      },
      "source": [
        "ax = sns.countplot(first_page_ratings, \n",
        "                   order=['One', 'Two', 'Three', 'Four', 'Five'])\n",
        "\n",
        "ax.set(ylabel = 'Count', title = 'Ratings of Books On First Page by Count');"
      ],
      "execution_count": 0,
      "outputs": [
        {
          "output_type": "display_data",
          "data": {
            "image/png": "[encoded data removed]",
            "text/plain": [
              "<Figure size 432x288 with 1 Axes>"
            ]
          },
          "metadata": {
            "tags": []
          }
        }
      ]
    },
    {
      "cell_type": "code",
      "metadata": {
        "id": "vuRi60pnHGQ8",
        "colab_type": "code",
        "colab": {}
      },
      "source": [
        "costs = books_section.find_all('p')[1::3]"
      ],
      "execution_count": 0,
      "outputs": []
    },
    {
      "cell_type": "code",
      "metadata": {
        "id": "-z33f9edqCQn",
        "colab_type": "code",
        "colab": {}
      },
      "source": [
        "first_page_book_costs = [float(cost.get_text()[2:]) for cost in costs]"
      ],
      "execution_count": 0,
      "outputs": []
    },
    {
      "cell_type": "code",
      "metadata": {
        "id": "_9DEIjw-qz67",
        "colab_type": "code",
        "outputId": "10791c59-b3f7-4adb-dcb2-9be02e56ea52",
        "colab": {
          "base_uri": "https://localhost:8080/",
          "height": 295
        }
      },
      "source": [
        "ax = sns.boxplot(first_page_book_costs);\n",
        "ax.set(xlabel = 'Costs (£)', title = 'Distribution of Book Costs on First Page');"
      ],
      "execution_count": 0,
      "outputs": [
        {
          "output_type": "display_data",
          "data": {
            "image/png": "[encoded data removed]",
            "text/plain": [
              "<Figure size 432x288 with 1 Axes>"
            ]
          },
          "metadata": {
            "tags": []
          }
        }
      ]
    },
    {
      "cell_type": "code",
      "metadata": {
        "id": "0LIjKTKSw_O5",
        "colab_type": "code",
        "colab": {}
      },
      "source": [
        ""
      ],
      "execution_count": 0,
      "outputs": []
    },
    {
      "cell_type": "markdown",
      "metadata": {
        "id": "HkF74Wa2sTH2",
        "colab_type": "text"
      },
      "source": [
        "## Scraping Multiple Pages"
      ]
    },
    {
      "cell_type": "markdown",
      "metadata": {
        "id": "q0WYINq5seuA",
        "colab_type": "text"
      },
      "source": [
        "From inspection, there are 50 pages each with 20 books displayed on the website. "
      ]
    },
    {
      "cell_type": "markdown",
      "metadata": {
        "id": "COOzjKCks-QB",
        "colab_type": "text"
      },
      "source": [
        "The url for the nth page follows the format:\n",
        "\n",
        "http://books.toscrape.com/catalogue/page-n.html\n",
        "\n",
        "Where n is an integer between 1 and 50."
      ]
    },
    {
      "cell_type": "code",
      "metadata": {
        "id": "ykctbYLstM-e",
        "colab_type": "code",
        "colab": {}
      },
      "source": [
        "URL_PREFIX = \"http://books.toscrape.com/catalogue/page-\"\n",
        "URL_SUFFIX = \".html\"\n",
        "\n",
        "star_ratings = []\n",
        "costs = []\n",
        "\n",
        "for page in range(1, 51):\n",
        "  book_store_page = URL_PREFIX + str(page) + URL_SUFFIX\n",
        "  parsed_html = parse_html(requests.get(book_store_page).text)\n",
        "  book_section = get_book_section(parsed_html)\n",
        "  ratings = book_section.find_all('p')[0::3]\n",
        "  page_ratings = [rating['class'][1] for rating in ratings]\n",
        "  star_ratings = star_ratings + page_ratings\n",
        "  \n",
        "  costs_per_page_section = book_section.find_all('p')[1::3]\n",
        "  costs_per_page = [float(cost.get_text()[2:]) for cost in costs_per_page_section]\n",
        "  costs =  costs + costs_per_page\n",
        "  "
      ],
      "execution_count": 0,
      "outputs": []
    },
    {
      "cell_type": "code",
      "metadata": {
        "id": "uxp5xG-VuCWQ",
        "colab_type": "code",
        "outputId": "d2490bae-1c6e-4531-8a70-5e4ec4c41be0",
        "colab": {
          "base_uri": "https://localhost:8080/",
          "height": 34
        }
      },
      "source": [
        "print(f\"Total number of books in book store: {len(star_ratings)}\")"
      ],
      "execution_count": 0,
      "outputs": [
        {
          "output_type": "stream",
          "text": [
            "Total number of books in book store: 1000\n"
          ],
          "name": "stdout"
        }
      ]
    },
    {
      "cell_type": "code",
      "metadata": {
        "id": "-gG7Tolaw0h4",
        "colab_type": "code",
        "outputId": "cfafb0f1-1f26-43f7-8222-c09fc7765781",
        "colab": {
          "base_uri": "https://localhost:8080/",
          "height": 281
        }
      },
      "source": [
        "ax = sns.countplot(star_ratings, \n",
        "                   order=['One', 'Two', 'Three', 'Four', 'Five'])\n",
        "\n",
        "ax.set(ylabel = 'Count', title = 'Ratings of Books On All Site by Count');"
      ],
      "execution_count": 0,
      "outputs": [
        {
          "output_type": "display_data",
          "data": {
            "image/png": "[encoded data removed]",
            "text/plain": [
              "<Figure size 432x288 with 1 Axes>"
            ]
          },
          "metadata": {
            "tags": []
          }
        }
      ]
    },
    {
      "cell_type": "code",
      "metadata": {
        "id": "j_DN_QIiw5_5",
        "colab_type": "code",
        "outputId": "34b9baf3-318a-4a3c-89f5-55cbea71e826",
        "colab": {
          "base_uri": "https://localhost:8080/",
          "height": 295
        }
      },
      "source": [
        "ax = sns.boxplot(costs);\n",
        "ax.set(xlabel = 'Costs (£)', title = 'Distribution of Book Costs');"
      ],
      "execution_count": 0,
      "outputs": [
        {
          "output_type": "display_data",
          "data": {
            "image/png": "[encoded data removed]",
            "text/plain": [
              "<Figure size 432x288 with 1 Axes>"
            ]
          },
          "metadata": {
            "tags": []
          }
        }
      ]
    },
    {
      "cell_type": "code",
      "metadata": {
        "id": "kQWRgSmMJ_8v",
        "colab_type": "code",
        "colab": {}
      },
      "source": [
        ""
      ],
      "execution_count": 0,
      "outputs": []
    }
  ]
}